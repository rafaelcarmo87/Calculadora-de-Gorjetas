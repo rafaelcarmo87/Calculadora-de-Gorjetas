{
  "nbformat": 4,
  "nbformat_minor": 0,
  "metadata": {
    "colab": {
      "provenance": [],
      "authorship_tag": "ABX9TyN1YX9Jl2MnJa9PKAzWJ62J",
      "include_colab_link": true
    },
    "kernelspec": {
      "name": "python3",
      "display_name": "Python 3"
    },
    "language_info": {
      "name": "python"
    }
  },
  "cells": [
    {
      "cell_type": "markdown",
      "metadata": {
        "id": "view-in-github",
        "colab_type": "text"
      },
      "source": [
        "<a href=\"https://colab.research.google.com/github/rafaelcarmo87/Calculadora-de-Gorjetas/blob/main/CalculodaSequenciadeFibonacci.ipynb\" target=\"_parent\"><img src=\"https://colab.research.google.com/assets/colab-badge.svg\" alt=\"Open In Colab\"/></a>"
      ]
    },
    {
      "cell_type": "code",
      "source": [
        "num = int(input(\"Digite um número: \"))\n",
        "\n",
        "# Inicializa as variáveis para a sequência de Fibonacci\n",
        "anterior = 0\n",
        "atual = 1\n",
        "proximo = 1\n",
        "\n",
        "# Percorre a sequência de Fibonacci até encontrar um número maior ou igual ao número digitado pelo usuário\n",
        "while proximo < num:\n",
        "    anterior = atual\n",
        "    atual = proximo\n",
        "    proximo = anterior + atual\n",
        "\n",
        "# Verifica se o número digitado pelo usuário pertence à sequência de Fibonacci\n",
        "if proximo == num:\n",
        "    print(num, \"pertence à sequência de Fibonacci.\")\n",
        "else:\n",
        "    print(num, \"não pertence à sequência de Fibonacci.\")"
      ],
      "metadata": {
        "colab": {
          "base_uri": "https://localhost:8080/"
        },
        "id": "FKPoazUMkyOC",
        "outputId": "ad178e32-e1f8-4747-aeff-6d0b50ce8bd4"
      },
      "execution_count": 4,
      "outputs": [
        {
          "output_type": "stream",
          "name": "stdout",
          "text": [
            "Digite um número: 4\n",
            "4 não pertence à sequência de Fibonacci.\n"
          ]
        }
      ]
    }
  ]
}